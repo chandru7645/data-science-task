{
 "cells": [
  {
   "cell_type": "markdown",
   "id": "b38388a1",
   "metadata": {},
   "source": [
    "### Import needed necessary packages"
   ]
  },
  {
   "cell_type": "code",
   "execution_count": 16,
   "id": "f4c858b4",
   "metadata": {},
   "outputs": [],
   "source": [
    "import pandas as pd\n",
    "import numpy as np\n"
   ]
  },
  {
   "cell_type": "code",
   "execution_count": 17,
   "id": "2c2cdb37",
   "metadata": {},
   "outputs": [
    {
     "data": {
      "text/html": [
       "<div>\n",
       "<style scoped>\n",
       "    .dataframe tbody tr th:only-of-type {\n",
       "        vertical-align: middle;\n",
       "    }\n",
       "\n",
       "    .dataframe tbody tr th {\n",
       "        vertical-align: top;\n",
       "    }\n",
       "\n",
       "    .dataframe thead th {\n",
       "        text-align: right;\n",
       "    }\n",
       "</style>\n",
       "<table border=\"1\" class=\"dataframe\">\n",
       "  <thead>\n",
       "    <tr style=\"text-align: right;\">\n",
       "      <th></th>\n",
       "      <th>input</th>\n",
       "      <th>output</th>\n",
       "    </tr>\n",
       "  </thead>\n",
       "  <tbody>\n",
       "    <tr>\n",
       "      <th>0</th>\n",
       "      <td>-122.740667</td>\n",
       "      <td>-130.572085</td>\n",
       "    </tr>\n",
       "    <tr>\n",
       "      <th>1</th>\n",
       "      <td>-121.531419</td>\n",
       "      <td>-129.938929</td>\n",
       "    </tr>\n",
       "    <tr>\n",
       "      <th>2</th>\n",
       "      <td>-134.917019</td>\n",
       "      <td>-130.141832</td>\n",
       "    </tr>\n",
       "    <tr>\n",
       "      <th>3</th>\n",
       "      <td>-120.605951</td>\n",
       "      <td>-125.760932</td>\n",
       "    </tr>\n",
       "    <tr>\n",
       "      <th>4</th>\n",
       "      <td>-129.894781</td>\n",
       "      <td>-112.785214</td>\n",
       "    </tr>\n",
       "  </tbody>\n",
       "</table>\n",
       "</div>"
      ],
      "text/plain": [
       "        input      output\n",
       "0 -122.740667 -130.572085\n",
       "1 -121.531419 -129.938929\n",
       "2 -134.917019 -130.141832\n",
       "3 -120.605951 -125.760932\n",
       "4 -129.894781 -112.785214"
      ]
     },
     "execution_count": 17,
     "metadata": {},
     "output_type": "execute_result"
    }
   ],
   "source": [
    "df = pd.read_csv(\"dataframe_.csv\")\n",
    "df.head()"
   ]
  },
  {
   "cell_type": "code",
   "execution_count": 18,
   "id": "14b9aeee",
   "metadata": {},
   "outputs": [
    {
     "data": {
      "text/html": [
       "<div>\n",
       "<style scoped>\n",
       "    .dataframe tbody tr th:only-of-type {\n",
       "        vertical-align: middle;\n",
       "    }\n",
       "\n",
       "    .dataframe tbody tr th {\n",
       "        vertical-align: top;\n",
       "    }\n",
       "\n",
       "    .dataframe thead th {\n",
       "        text-align: right;\n",
       "    }\n",
       "</style>\n",
       "<table border=\"1\" class=\"dataframe\">\n",
       "  <thead>\n",
       "    <tr style=\"text-align: right;\">\n",
       "      <th></th>\n",
       "      <th>input</th>\n",
       "      <th>output</th>\n",
       "    </tr>\n",
       "  </thead>\n",
       "  <tbody>\n",
       "    <tr>\n",
       "      <th>count</th>\n",
       "      <td>1696.000000</td>\n",
       "      <td>1696.000000</td>\n",
       "    </tr>\n",
       "    <tr>\n",
       "      <th>mean</th>\n",
       "      <td>1.159933</td>\n",
       "      <td>-34.088017</td>\n",
       "    </tr>\n",
       "    <tr>\n",
       "      <th>std</th>\n",
       "      <td>79.005970</td>\n",
       "      <td>65.771112</td>\n",
       "    </tr>\n",
       "    <tr>\n",
       "      <th>min</th>\n",
       "      <td>-134.962839</td>\n",
       "      <td>-132.422167</td>\n",
       "    </tr>\n",
       "    <tr>\n",
       "      <th>25%</th>\n",
       "      <td>-63.386506</td>\n",
       "      <td>-80.026767</td>\n",
       "    </tr>\n",
       "    <tr>\n",
       "      <th>50%</th>\n",
       "      <td>10.195194</td>\n",
       "      <td>-50.470981</td>\n",
       "    </tr>\n",
       "    <tr>\n",
       "      <th>75%</th>\n",
       "      <td>70.264109</td>\n",
       "      <td>-11.000000</td>\n",
       "    </tr>\n",
       "    <tr>\n",
       "      <th>max</th>\n",
       "      <td>134.605775</td>\n",
       "      <td>134.425495</td>\n",
       "    </tr>\n",
       "  </tbody>\n",
       "</table>\n",
       "</div>"
      ],
      "text/plain": [
       "             input       output\n",
       "count  1696.000000  1696.000000\n",
       "mean      1.159933   -34.088017\n",
       "std      79.005970    65.771112\n",
       "min    -134.962839  -132.422167\n",
       "25%     -63.386506   -80.026767\n",
       "50%      10.195194   -50.470981\n",
       "75%      70.264109   -11.000000\n",
       "max     134.605775   134.425495"
      ]
     },
     "execution_count": 18,
     "metadata": {},
     "output_type": "execute_result"
    }
   ],
   "source": [
    "df.describe()"
   ]
  },
  {
   "cell_type": "code",
   "execution_count": 19,
   "id": "0f753b87",
   "metadata": {},
   "outputs": [
    {
     "data": {
      "text/plain": [
       "(1697, 2)"
      ]
     },
     "execution_count": 19,
     "metadata": {},
     "output_type": "execute_result"
    }
   ],
   "source": [
    "df.shape"
   ]
  },
  {
   "cell_type": "code",
   "execution_count": 20,
   "id": "aed234f8",
   "metadata": {},
   "outputs": [
    {
     "name": "stdout",
     "output_type": "stream",
     "text": [
      "<class 'pandas.core.frame.DataFrame'>\n",
      "RangeIndex: 1697 entries, 0 to 1696\n",
      "Data columns (total 2 columns):\n",
      " #   Column  Non-Null Count  Dtype  \n",
      "---  ------  --------------  -----  \n",
      " 0   input   1696 non-null   float64\n",
      " 1   output  1696 non-null   float64\n",
      "dtypes: float64(2)\n",
      "memory usage: 26.6 KB\n"
     ]
    }
   ],
   "source": [
    "df.info()"
   ]
  },
  {
   "cell_type": "code",
   "execution_count": 21,
   "id": "8f2964de",
   "metadata": {
    "scrolled": true
   },
   "outputs": [
    {
     "data": {
      "text/plain": [
       "input     1\n",
       "output    1\n",
       "dtype: int64"
      ]
     },
     "execution_count": 21,
     "metadata": {},
     "output_type": "execute_result"
    }
   ],
   "source": [
    "df.isna().sum()"
   ]
  },
  {
   "cell_type": "code",
   "execution_count": 22,
   "id": "6bc6b443",
   "metadata": {},
   "outputs": [],
   "source": [
    "df = df.dropna()"
   ]
  },
  {
   "cell_type": "code",
   "execution_count": 23,
   "id": "7a06dcab",
   "metadata": {},
   "outputs": [
    {
     "data": {
      "text/plain": [
       "606"
      ]
     },
     "execution_count": 23,
     "metadata": {},
     "output_type": "execute_result"
    }
   ],
   "source": [
    "df.duplicated().sum()"
   ]
  },
  {
   "cell_type": "code",
   "execution_count": 24,
   "id": "83e8d65d",
   "metadata": {},
   "outputs": [],
   "source": [
    "df=df.drop_duplicates()\n"
   ]
  },
  {
   "cell_type": "code",
   "execution_count": 25,
   "id": "20b7f823",
   "metadata": {},
   "outputs": [
    {
     "data": {
      "text/plain": [
       "(1090, 2)"
      ]
     },
     "execution_count": 25,
     "metadata": {},
     "output_type": "execute_result"
    }
   ],
   "source": [
    "df.shape"
   ]
  },
  {
   "cell_type": "code",
   "execution_count": 26,
   "id": "4c881730",
   "metadata": {},
   "outputs": [
    {
     "data": {
      "text/plain": [
       "input     991\n",
       "output    969\n",
       "dtype: int64"
      ]
     },
     "execution_count": 26,
     "metadata": {},
     "output_type": "execute_result"
    }
   ],
   "source": [
    "df.nunique()"
   ]
  },
  {
   "cell_type": "code",
   "execution_count": 27,
   "id": "006ffd0e",
   "metadata": {},
   "outputs": [
    {
     "data": {
      "text/html": [
       "<div>\n",
       "<style scoped>\n",
       "    .dataframe tbody tr th:only-of-type {\n",
       "        vertical-align: middle;\n",
       "    }\n",
       "\n",
       "    .dataframe tbody tr th {\n",
       "        vertical-align: top;\n",
       "    }\n",
       "\n",
       "    .dataframe thead th {\n",
       "        text-align: right;\n",
       "    }\n",
       "</style>\n",
       "<table border=\"1\" class=\"dataframe\">\n",
       "  <thead>\n",
       "    <tr style=\"text-align: right;\">\n",
       "      <th></th>\n",
       "      <th>input</th>\n",
       "      <th>output</th>\n",
       "    </tr>\n",
       "  </thead>\n",
       "  <tbody>\n",
       "    <tr>\n",
       "      <th>input</th>\n",
       "      <td>1.000000</td>\n",
       "      <td>0.504471</td>\n",
       "    </tr>\n",
       "    <tr>\n",
       "      <th>output</th>\n",
       "      <td>0.504471</td>\n",
       "      <td>1.000000</td>\n",
       "    </tr>\n",
       "  </tbody>\n",
       "</table>\n",
       "</div>"
      ],
      "text/plain": [
       "           input    output\n",
       "input   1.000000  0.504471\n",
       "output  0.504471  1.000000"
      ]
     },
     "execution_count": 27,
     "metadata": {},
     "output_type": "execute_result"
    }
   ],
   "source": [
    "df.corr()"
   ]
  },
  {
   "cell_type": "code",
   "execution_count": 28,
   "id": "dc2a8575",
   "metadata": {},
   "outputs": [
    {
     "data": {
      "text/html": [
       "<div>\n",
       "<style scoped>\n",
       "    .dataframe tbody tr th:only-of-type {\n",
       "        vertical-align: middle;\n",
       "    }\n",
       "\n",
       "    .dataframe tbody tr th {\n",
       "        vertical-align: top;\n",
       "    }\n",
       "\n",
       "    .dataframe thead th {\n",
       "        text-align: right;\n",
       "    }\n",
       "</style>\n",
       "<table border=\"1\" class=\"dataframe\">\n",
       "  <thead>\n",
       "    <tr style=\"text-align: right;\">\n",
       "      <th></th>\n",
       "      <th>input</th>\n",
       "      <th>output</th>\n",
       "    </tr>\n",
       "  </thead>\n",
       "  <tbody>\n",
       "    <tr>\n",
       "      <th>input</th>\n",
       "      <td>6204.586968</td>\n",
       "      <td>2716.879936</td>\n",
       "    </tr>\n",
       "    <tr>\n",
       "      <th>output</th>\n",
       "      <td>2716.879936</td>\n",
       "      <td>4674.716079</td>\n",
       "    </tr>\n",
       "  </tbody>\n",
       "</table>\n",
       "</div>"
      ],
      "text/plain": [
       "              input       output\n",
       "input   6204.586968  2716.879936\n",
       "output  2716.879936  4674.716079"
      ]
     },
     "execution_count": 28,
     "metadata": {},
     "output_type": "execute_result"
    }
   ],
   "source": [
    "df.cov()\n"
   ]
  },
  {
   "cell_type": "code",
   "execution_count": 29,
   "id": "a0d856df",
   "metadata": {},
   "outputs": [
    {
     "name": "stderr",
     "output_type": "stream",
     "text": [
      "C:\\Users\\User\\anaconda3\\lib\\site-packages\\seaborn\\distributions.py:2619: FutureWarning: `distplot` is a deprecated function and will be removed in a future version. Please adapt your code to use either `displot` (a figure-level function with similar flexibility) or `histplot` (an axes-level function for histograms).\n",
      "  warnings.warn(msg, FutureWarning)\n"
     ]
    },
    {
     "data": {
      "image/png": "[encoded data removed]",
      "text/plain": [
       "<Figure size 504x360 with 1 Axes>"
      ]
     },
     "metadata": {},
     "output_type": "display_data"
    }
   ],
   "source": [
    "import seaborn as sns \n",
    "import matplotlib.pyplot as plt\n",
    "sns.set(rc={'figure.figsize':(7,5)})\n",
    "sns.distplot(df['output'], bins=30)\n",
    "plt.show()"
   ]
  },
  {
   "cell_type": "code",
   "execution_count": 30,
   "id": "dcde85d7",
   "metadata": {},
   "outputs": [
    {
     "data": {
      "text/plain": [
       "<AxesSubplot:>"
      ]
     },
     "execution_count": 30,
     "metadata": {},
     "output_type": "execute_result"
    },
    {
     "data": {
      "image/png": "[encoded data removed]",
      "text/plain": [
       "<Figure size 576x576 with 2 Axes>"
      ]
     },
     "metadata": {},
     "output_type": "display_data"
    }
   ],
   "source": [
    "corr = df.corr() \n",
    "plt.figure(figsize=(8,8))\n",
    "sns.heatmap(corr, annot=True,cmap=\"Blues\")"
   ]
  },
  {
   "cell_type": "code",
   "execution_count": 39,
   "id": "07f4b755",
   "metadata": {},
   "outputs": [
    {
     "data": {
      "image/png": "[encoded data removed]",
      "text/plain": [
       "<Figure size 504x360 with 1 Axes>"
      ]
     },
     "metadata": {},
     "output_type": "display_data"
    }
   ],
   "source": [
    "plt.boxplot(df['input'], patch_artist=True, boxprops=dict(facecolor='green'))\n",
    "plt.show()"
   ]
  },
  {
   "cell_type": "code",
   "execution_count": 97,
   "id": "460ffebc",
   "metadata": {},
   "outputs": [
    {
     "data": {
      "image/png": "[encoded data removed]",
      "text/plain": [
       "<Figure size 504x360 with 1 Axes>"
      ]
     },
     "metadata": {},
     "output_type": "display_data"
    }
   ],
   "source": [
    "plt.boxplot(df, patch_artist=True, boxprops=dict(facecolor='green'))\n",
    "plt.show()\n"
   ]
  },
  {
   "cell_type": "code",
   "execution_count": 32,
   "id": "1e7b3203",
   "metadata": {},
   "outputs": [
    {
     "name": "stdout",
     "output_type": "stream",
     "text": [
      "[-122.7406674 -121.5314194 -134.917019  ... -109.9421548 -111.5153684\n",
      " -110.3442214]\n"
     ]
    },
    {
     "data": {
      "text/plain": [
       "array([-130.5720846, -129.9389289, -130.1418321, ...,  127.1973936,\n",
       "        128.1708846,  123.0879499])"
      ]
     },
     "execution_count": 32,
     "metadata": {},
     "output_type": "execute_result"
    }
   ],
   "source": [
    "X=df['input'].values\n",
    "Y=df['output'].values\n",
    "print(X)\n",
    "Y"
   ]
  },
  {
   "cell_type": "code",
   "execution_count": 58,
   "id": "301ee0e7",
   "metadata": {
    "scrolled": false
   },
   "outputs": [],
   "source": [
    "X=X.reshape(-1, 1)\n",
    "Y=Y.reshape(-1, 1)\n",
    "\n"
   ]
  },
  {
   "cell_type": "markdown",
   "id": "463939b3",
   "metadata": {},
   "source": [
    "### Linear  Regression model"
   ]
  },
  {
   "cell_type": "code",
   "execution_count": 59,
   "id": "de9be299",
   "metadata": {},
   "outputs": [
    {
     "name": "stdout",
     "output_type": "stream",
     "text": [
      "xtrain shape :  (872, 1)\n",
      "xtest shape :  (218, 1)\n",
      "ytrain shape :  (872,)\n",
      "ytest shape :  (218,)\n"
     ]
    }
   ],
   "source": [
    "from sklearn.model_selection import train_test_split  \n",
    "X_train, X_test, Y_train, Y_test =train_test_split(X, Y,test_size=0.2, random_state=20)\n",
    "print(\"xtrain shape : \", X_train.shape)\n",
    "print(\"xtest shape : \", X_test.shape)\n",
    "print(\"ytrain shape : \", y_train.shape)\n",
    "print(\"ytest shape : \", y_test.shape)\n",
    "from sklearn.linear_model import LinearRegression \n",
    "regressor = LinearRegression()"
   ]
  },
  {
   "cell_type": "code",
   "execution_count": 61,
   "id": "e321c24e",
   "metadata": {},
   "outputs": [],
   "source": [
    "regressor.fit(X_train,Y_train)\n",
    "y_pred=regressor.predict(X_test)\n"
   ]
  },
  {
   "cell_type": "code",
   "execution_count": 64,
   "id": "840b5b5c",
   "metadata": {},
   "outputs": [
    {
     "name": "stdout",
     "output_type": "stream",
     "text": [
      "[[ 2.67793896e+01]\n",
      " [-1.75917669e+01]\n",
      " [-4.12983850e-01]\n",
      " [ 1.41469355e+01]\n",
      " [-3.54812829e+00]\n",
      " [-4.12983850e-01]\n",
      " [-6.15591823e+01]\n",
      " [-3.68304709e+01]\n",
      " [-2.95028404e+01]\n",
      " [-5.59590613e+01]\n",
      " [ 6.15851798e+00]\n",
      " [ 2.73627833e+01]\n",
      " [-2.79696610e+01]\n",
      " [-7.71039272e+01]\n",
      " [-4.66378199e+01]\n",
      " [-2.22152975e+01]\n",
      " [-7.62470451e+01]\n",
      " [-2.14065940e+01]\n",
      " [ 1.18301004e+01]\n",
      " [-2.06454681e+01]\n",
      " [-1.96928299e+01]\n",
      " [-2.86916348e+01]\n",
      " [-6.99415009e+01]\n",
      " [-5.69671990e+01]\n",
      " [-2.84125210e+01]\n",
      " [-3.77755344e+01]\n",
      " [-1.26394361e+01]\n",
      " [-2.65624189e+01]\n",
      " [-8.65296297e+01]\n",
      " [ 1.11549238e+01]\n",
      " [ 1.15833648e+01]\n",
      " [ 1.80099802e+01]\n",
      " [-5.13610416e+01]\n",
      " [ 4.70601276e+00]\n",
      " [-5.07799025e+01]\n",
      " [-3.60098265e-02]\n",
      " [ 2.05806263e+01]\n",
      " [ 8.53147745e+00]\n",
      " [ 5.59881057e-01]\n",
      " [-1.05134885e+01]\n",
      " [-1.54762367e+01]\n",
      " [-4.03407359e+01]\n",
      " [ 1.23137544e+01]\n",
      " [-1.45515376e+01]\n",
      " [-2.14065940e+01]\n",
      " [-1.62282050e+01]\n",
      " [-8.42428023e+01]\n",
      " [-6.41115819e+00]\n",
      " [ 2.23005886e+00]\n",
      " [-1.81949547e+01]\n",
      " [-3.44589404e+01]\n",
      " [-2.22149339e+01]\n",
      " [-4.33922019e+01]\n",
      " [-1.04151482e+01]\n",
      " [-1.63264505e+01]\n",
      " [-1.62653017e+01]\n",
      " [-2.38021678e+01]\n",
      " [-2.56837953e-01]\n",
      " [-2.53842792e+01]\n",
      " [-1.69969433e+01]\n",
      " [-2.05945560e+01]\n",
      " [ 8.25107579e+00]\n",
      " [ 9.44115971e+00]\n",
      " [-4.23069517e+01]\n",
      " [-1.97224489e+00]\n",
      " [-5.55204523e-02]\n",
      " [ 1.02980418e+01]\n",
      " [-7.43590404e+01]\n",
      " [-2.49077831e+01]\n",
      " [ 1.84384212e+01]\n",
      " [ 2.12530995e+01]\n",
      " [-4.97389853e+01]\n",
      " [ 1.96589303e+00]\n",
      " [-8.35305425e+01]\n",
      " [ 5.15674946e+00]\n",
      " [-7.16743049e+01]\n",
      " [ 1.45824520e+01]\n",
      " [-8.39589836e+01]\n",
      " [-1.87898041e+01]\n",
      " [ 5.58519049e+00]\n",
      " [-7.67324564e+01]\n",
      " [ 1.42333313e+01]\n",
      " [-8.57579882e+01]\n",
      " [-2.09781530e+01]\n",
      " [-1.58137358e+01]\n",
      " [-5.32443196e+01]\n",
      " [ 2.31545642e+01]\n",
      " [-7.18404652e+01]\n",
      " [-4.36855273e+01]\n",
      " [-3.74841149e+01]\n",
      " [-2.77717030e+01]\n",
      " [-2.39772402e+01]\n",
      " [ 1.37255699e+01]\n",
      " [-3.22684329e+01]\n",
      " [-5.61103170e+01]\n",
      " [-5.01121427e+01]\n",
      " [-3.21164682e+01]\n",
      " [ 1.24629162e+01]\n",
      " [-5.65616705e+01]\n",
      " [-1.08283007e+01]\n",
      " [-5.05432676e+01]\n",
      " [-3.23405405e+01]\n",
      " [-5.72233199e+01]\n",
      " [-8.72852399e+01]\n",
      " [-8.35305425e+01]\n",
      " [ 1.60214582e+01]\n",
      " [-7.69648126e+00]\n",
      " [-1.74450929e+01]\n",
      " [-8.02985158e+00]\n",
      " [-7.16763003e+01]\n",
      " [-4.55904874e+01]\n",
      " [-7.86937882e+01]\n",
      " [-3.93679118e+01]\n",
      " [-7.02488708e+01]\n",
      " [-2.10057658e+01]\n",
      " [ 1.01496493e+01]\n",
      " [ 2.46093599e+01]\n",
      " [-6.81066657e+01]\n",
      " [-8.12811987e+01]\n",
      " [-8.05101408e+01]\n",
      " [-8.04076448e+01]\n",
      " [-3.24850750e+01]\n",
      " [-8.68150226e+00]\n",
      " [-2.52627402e+01]\n",
      " [-2.84983091e+01]\n",
      " [-2.26919171e+01]\n",
      " [ 1.85619876e+01]\n",
      " [-8.07794516e+01]\n",
      " [ 6.18867450e-01]\n",
      " [ 1.46419724e+01]\n",
      " [ 2.25674530e+01]\n",
      " [ 1.88156477e-01]\n",
      " [-1.93599946e+01]\n",
      " [ 1.84384212e+01]\n",
      " [-7.87798468e+01]\n",
      " [-2.26884623e+01]\n",
      " [-3.64311307e+01]\n",
      " [ 2.62687159e+01]\n",
      " [ 2.35004774e+01]\n",
      " [-2.12674795e+00]\n",
      " [-6.92463189e+00]\n",
      " [-9.07356049e+00]\n",
      " [-4.96450260e+01]\n",
      " [ 2.30739398e+01]\n",
      " [-7.66754862e+01]\n",
      " [-7.93069647e+01]\n",
      " [-4.64163669e+01]\n",
      " [-8.43874246e+01]\n",
      " [ 2.21605828e+01]\n",
      " [-5.47742062e+00]\n",
      " [-9.30650693e+00]\n",
      " [-6.68213426e+01]\n",
      " [ 2.15509830e+01]\n",
      " [-4.25899276e+01]\n",
      " [-8.38385709e+01]\n",
      " [-5.12872566e+01]\n",
      " [ 6.71656510e+00]\n",
      " [-2.35029161e+01]\n",
      " [-8.56417257e+00]\n",
      " [-7.23910759e+01]\n",
      " [-8.41204858e+01]\n",
      " [-3.42598248e+01]\n",
      " [-3.91612400e+01]\n",
      " [-4.26895307e+00]\n",
      " [-3.69739382e+01]\n",
      " [ 2.39817325e+01]\n",
      " [-1.69830692e+00]\n",
      " [ 6.07443290e+00]\n",
      " [ 2.02050854e+01]\n",
      " [ 2.50348093e+00]\n",
      " [-8.12492229e+00]\n",
      " [ 5.35554806e+00]\n",
      " [-1.84075069e+01]\n",
      " [ 1.31417776e+01]\n",
      " [-1.48300484e+01]\n",
      " [-5.22543478e+01]\n",
      " [-3.08322966e+01]\n",
      " [-8.35892450e+01]\n",
      " [-4.88268196e+01]\n",
      " [-8.98180433e+00]\n",
      " [-2.98363000e+00]\n",
      " [-4.70469011e+01]\n",
      " [ 1.97158416e+01]\n",
      " [ 1.80284485e+01]\n",
      " [ 1.30078025e+00]\n",
      " [-5.05405837e+01]\n",
      " [-6.76875825e+00]\n",
      " [-6.30461656e+01]\n",
      " [-3.14793501e+00]\n",
      " [-8.41424874e-01]\n",
      " [-1.04752758e+01]\n",
      " [-7.96300020e+01]\n",
      " [ 2.52666846e+00]\n",
      " [-3.59735889e+01]\n",
      " [-3.36398984e+01]\n",
      " [ 1.21674603e+01]\n",
      " [-5.10418661e+01]\n",
      " [-8.23828263e+01]\n",
      " [ 1.03130028e+01]\n",
      " [ 1.66857733e+01]\n",
      " [-5.15476817e+01]\n",
      " [ 1.60826552e+01]\n",
      " [-1.98500218e+01]\n",
      " [ 1.29751667e+01]\n",
      " [ 1.50498543e+01]\n",
      " [ 4.83211222e+00]\n",
      " [-8.23158054e+01]\n",
      " [-2.48382146e+01]\n",
      " [-2.56278032e+00]\n",
      " [-7.97812892e+01]\n",
      " [-6.60886564e+00]\n",
      " [-1.38228707e+01]\n",
      " [-6.38933895e+01]\n",
      " [-2.53319362e+01]\n",
      " [-3.95612013e+01]\n",
      " [-8.02972060e+01]\n",
      " [ 2.14186026e+01]\n",
      " [-4.43908539e+00]]\n"
     ]
    }
   ],
   "source": [
    "print(y_pred)"
   ]
  },
  {
   "cell_type": "code",
   "execution_count": 65,
   "id": "11c66934",
   "metadata": {},
   "outputs": [
    {
     "name": "stdout",
     "output_type": "stream",
     "text": [
      "[-30.24675963] [[0.42844102]]\n"
     ]
    }
   ],
   "source": [
    "print(regressor.intercept_, regressor.coef_)"
   ]
  },
  {
   "cell_type": "code",
   "execution_count": 74,
   "id": "7bbbf665",
   "metadata": {},
   "outputs": [
    {
     "data": {
      "image/png": "[encoded data removed]",
      "text/plain": [
       "<Figure size 504x360 with 1 Axes>"
      ]
     },
     "metadata": {},
     "output_type": "display_data"
    }
   ],
   "source": [
    "plt.scatter(X, Y)\n",
    "plt.show()\n"
   ]
  },
  {
   "cell_type": "code",
   "execution_count": 71,
   "id": "1c00d9c4",
   "metadata": {},
   "outputs": [
    {
     "data": {
      "image/png": "[encoded data removed]",
      "text/plain": [
       "<Figure size 504x360 with 1 Axes>"
      ]
     },
     "metadata": {},
     "output_type": "display_data"
    }
   ],
   "source": [
    "sns.regplot(x=\"input\", y=\"output\", data=df)\n",
    "plt.show()\n"
   ]
  },
  {
   "cell_type": "code",
   "execution_count": 81,
   "id": "737011e0",
   "metadata": {},
   "outputs": [
    {
     "name": "stdout",
     "output_type": "stream",
     "text": [
      "Mean Absolute Error: 63.53739237319818\n",
      "\n",
      "\n",
      "\n",
      " Mean Squared error:   6053.735466131253\n",
      "\n",
      " R2 Score:  -0.17336465609561968\n",
      "\n",
      " Root mean squared error:  77.80575471089045\n"
     ]
    }
   ],
   "source": [
    "from sklearn import metrics\n",
    "print('Mean Absolute Error:',metrics.mean_absolute_error(y_test, y_pred))\n",
    "print('\\n\\n\\n Mean Squared error:  ',metrics.mean_squared_error(y_test,y_pred))\n",
    "print('\\n R2 Score: ',metrics.r2_score(y_test,y_pred))\n",
    "print('\\n Root mean squared error: ',np.sqrt(metrics.mean_squared_error(y_test,y_pred)))"
   ]
  },
  {
   "cell_type": "markdown",
   "id": "4fc620c7",
   "metadata": {},
   "source": [
    "###  Support Vector Regression (SVR) model\n"
   ]
  },
  {
   "cell_type": "code",
   "execution_count": 89,
   "id": "79080769",
   "metadata": {},
   "outputs": [
    {
     "name": "stderr",
     "output_type": "stream",
     "text": [
      "C:\\Users\\User\\anaconda3\\lib\\site-packages\\sklearn\\utils\\validation.py:1111: DataConversionWarning: A column-vector y was passed when a 1d array was expected. Please change the shape of y to (n_samples, ), for example using ravel().\n",
      "  y = column_or_1d(y, warn=True)\n"
     ]
    }
   ],
   "source": [
    "from sklearn.svm import SVR\n",
    "svr = SVR(kernel='rbf', C=1.0, epsilon=0.1)\n",
    "svr.fit(X_train, Y_train)\n",
    "y1_pred = svr.predict(X_test)"
   ]
  },
  {
   "cell_type": "code",
   "execution_count": 86,
   "id": "37de5182",
   "metadata": {},
   "outputs": [
    {
     "name": "stdout",
     "output_type": "stream",
     "text": [
      "Mean Absolute Error: 65.79437456342657\n",
      "\n",
      "\n",
      "\n",
      " Mean Squared error:   7740.63937169376\n",
      "\n",
      " R2 Score:  -0.5003286326503551\n",
      "\n",
      " Root mean squared error:  87.9809034489517\n"
     ]
    }
   ],
   "source": [
    "\n",
    "print('Mean Absolute Error:',metrics.mean_absolute_error(y_test, y1_pred))\n",
    "print('\\n\\n\\n Mean Squared error:  ',metrics.mean_squared_error(y_test,y1_pred))\n",
    "print('\\n R2 Score: ',metrics.r2_score(y_test,y1_pred))\n",
    "print('\\n Root mean squared error: ',np.sqrt(metrics.mean_squared_error(y_test,y1_pred)))"
   ]
  },
  {
   "cell_type": "markdown",
   "id": "42968265",
   "metadata": {},
   "source": [
    "### DecisionTreeRegressor model"
   ]
  },
  {
   "cell_type": "code",
   "execution_count": 94,
   "id": "faab9f90",
   "metadata": {},
   "outputs": [],
   "source": [
    "from sklearn.tree import DecisionTreeRegressor\n",
    "model = DecisionTreeRegressor(max_depth=5)\n",
    "model.fit(X_train, y_train)\n",
    "y2_pred = model.predict(X_test)"
   ]
  },
  {
   "cell_type": "code",
   "execution_count": 96,
   "id": "a1d7f098",
   "metadata": {},
   "outputs": [
    {
     "name": "stdout",
     "output_type": "stream",
     "text": [
      "Mean Absolute Error: 59.504469039888505\n",
      "\n",
      "\n",
      "\n",
      " Mean Squared error:   5663.699569253648\n",
      "\n",
      " R2 Score:  -0.0977659883696893\n",
      "\n",
      " Root mean squared error:  75.25755489818712\n"
     ]
    }
   ],
   "source": [
    "print('Mean Absolute Error:',metrics.mean_absolute_error(y_test, y2_pred))\n",
    "print('\\n\\n\\n Mean Squared error:  ',metrics.mean_squared_error(y_test,y2_pred))\n",
    "print('\\n R2 Score: ',metrics.r2_score(y_test,y2_pred))\n",
    "print('\\n Root mean squared error: ',np.sqrt(metrics.mean_squared_error(y_test,y2_pred)))"
   ]
  },
  {
   "cell_type": "markdown",
   "id": "afc505a7",
   "metadata": {},
   "source": [
    "## compare the above three model DecisionTreeRegressor best results so using decision tree regression is best in my POV"
   ]
  },
  {
   "cell_type": "code",
   "execution_count": null,
   "id": "f16c95cd",
   "metadata": {},
   "outputs": [],
   "source": []
  }
 ],
 "metadata": {
  "kernelspec": {
   "display_name": "Python 3 (ipykernel)",
   "language": "python",
   "name": "python3"
  },
  "language_info": {
   "codemirror_mode": {
    "name": "ipython",
    "version": 3
   },
   "file_extension": ".py",
   "mimetype": "text/x-python",
   "name": "python",
   "nbconvert_exporter": "python",
   "pygments_lexer": "ipython3",
   "version": "3.9.7"
  }
 },
 "nbformat": 4,
 "nbformat_minor": 5
}
